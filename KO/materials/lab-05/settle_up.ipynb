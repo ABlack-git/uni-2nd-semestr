{
 "cells": [
  {
   "cell_type": "markdown",
   "metadata": {},
   "source": [
    "# Settle Up Problem (Dlužníček)\n",
    "\n",
    "## Motivation\n",
    "\n",
    "You went on a trip with a group of your friends. All of you shared some expenses, and now it is the time to settle all the debts. It is clear that everyone should pay the same amount; however, people are lazy, and so you want to find the solution which minimizes the number of transactions.\n",
    "\n",
    "## Input\n",
    "\n",
    "You are given the following:\n",
    "\n",
    "* A set of people $P$\n",
    "* For every person $i \\in P$ the cost $c_i$ (i.e., amount of money that $i$ payed)\n",
    "\n",
    "For the experiments, you may use the following instance:"
   ]
  },
  {
   "cell_type": "code",
   "execution_count": 1,
   "metadata": {},
   "outputs": [],
   "source": [
    "P = set([\"A\", \"B\", \"C\", \"D\"])\n",
    "c = {\"A\": 0, \"B\": 590, \"C\": 110, \"D\": 300}  # c_i is accessed by calling c[i]\n",
    "sv = sum(c.values())/len(c)  # the settlement value"
   ]
  },
  {
   "cell_type": "markdown",
   "metadata": {},
   "source": [
    "Number $sv$ (the settlement value) is the fair price that every person should pay."
   ]
  },
  {
   "cell_type": "markdown",
   "metadata": {},
   "source": [
    "## Output\n",
    "\n",
    "You should find a list of tuples $(x_k, y_k, z_k)$ representing the transactions: person $x_k$ should pay person $y_k$ z_k euros. The number of transactions (i.e., the length of the list) should be minimized."
   ]
  },
  {
   "cell_type": "markdown",
   "metadata": {},
   "source": [
    "## Exercise\n",
    "\n",
    "Implement the ILP model of the problem. You can assume that the settlement value is int (or was rounded)."
   ]
  },
  {
   "cell_type": "code",
   "execution_count": 2,
   "metadata": {},
   "outputs": [
    {
     "name": "stdout",
     "output_type": "stream",
     "text": [
      "Academic license - for non-commercial use only\n",
      "Optimize a model with 36 rows, 32 columns and 88 nonzeros\n",
      "Variable types: 16 continuous, 16 integer (16 binary)\n",
      "Coefficient statistics:\n",
      "  Matrix range     [1e+00, 1e+03]\n",
      "  Objective range  [1e+00, 1e+00]\n",
      "  Bounds range     [1e+00, 1e+00]\n",
      "  RHS range        [5e+01, 3e+02]\n",
      "Found heuristic solution: objective 3.0000000\n",
      "Presolve removed 8 rows and 8 columns\n",
      "Presolve time: 0.00s\n",
      "Presolved: 28 rows, 24 columns, 72 nonzeros\n",
      "Variable types: 12 continuous, 12 integer (12 binary)\n",
      "\n",
      "Root relaxation: objective 3.900000e-01, 8 iterations, 0.00 seconds\n",
      "\n",
      "    Nodes    |    Current Node    |     Objective Bounds      |     Work\n",
      " Expl Unexpl |  Obj  Depth IntInf | Incumbent    BestBd   Gap | It/Node Time\n",
      "\n",
      "     0     0    0.39000    0    3    3.00000    0.39000  87.0%     -    0s\n",
      "     0     0    2.00000    0    3    3.00000    2.00000  33.3%     -    0s\n",
      "\n",
      "Cutting planes:\n",
      "  MIR: 1\n",
      "  Flow cover: 7\n",
      "\n",
      "Explored 1 nodes (17 simplex iterations) in 0.03 seconds\n",
      "Thread count was 4 (of 4 available processors)\n",
      "\n",
      "Solution count 1: 3 \n",
      "\n",
      "Optimal solution found (tolerance 1.00e-04)\n",
      "Best objective 3.000000000000e+00, best bound 3.000000000000e+00, gap 0.0000%\n",
      "\n",
      "SOLUTION:\n",
      "A -> B: 250.0\n",
      "C -> D: 50.0\n",
      "C -> B: 90.0\n"
     ]
    }
   ],
   "source": [
    "import gurobipy as g  # import Gurobi module\n",
    "\n",
    "\n",
    "# model --------------------------------------------------\n",
    "m = g.Model()\n",
    "\n",
    "# - ADD VARIABLES\n",
    "f = {}\n",
    "y = {}\n",
    "for p in P:\n",
    "    for q in P:\n",
    "        # f_pq represents how much money should p pay to q\n",
    "        f[p, q] = m.addVar(lb=0, vtype=g.GRB.CONTINUOUS)\n",
    "        # y_pq represents whether p should pay to q or not\n",
    "        y[p, q] = m.addVar(vtype=g.GRB.BINARY)\n",
    "\n",
    "# - ADD CONSTRAINTS\n",
    "sv = sum(c.values()) / len(c)\n",
    "for p in P:\n",
    "    # what person gets, payed and pays sums up to settlement value\n",
    "    m.addConstr(g.quicksum(f[p, q] for q in P) + c[p] - g.quicksum(f[q, p] for q in P) == sv)\n",
    "\n",
    "M = sum(c.values())\n",
    "\n",
    "for p in P:\n",
    "    for q in P:\n",
    "        # link variables y with f\n",
    "        m.addConstr(f[p, q] <= y[p, q] * M)\n",
    "        m.addConstr(y[p, q] <= f[p, q])\n",
    "\n",
    "# - SET OBJECTIVE\n",
    "# minimize the number of transactions\n",
    "m.setObjective(g.quicksum(y[p, q] for p in P for q in P), sense=g.GRB.MINIMIZE)\n",
    "\n",
    "# call the solver -------------------------------------------\n",
    "m.optimize()\n",
    "\n",
    "# print the solution -----------------------------------------\n",
    "print('\\nSOLUTION:')\n",
    "for p in P:\n",
    "    for q in P:\n",
    "        if f[p, q].x > 0:\n",
    "            print(\"{0} -> {1}: {2}\".format(p, q, f[p, q].x))\n",
    "\n",
    "#print([y[p, q].x for p in P for q in P])\n",
    "# always round results before casting to int!\n",
    "#print([int(round(f[p, q].x)) for p in P for q in P])"
   ]
  },
  {
   "cell_type": "markdown",
   "metadata": {},
   "source": [
    "## Additional experiments\n",
    "\n",
    "* experiment with different values of the 'big M' constant\n",
    "* try to generalize the model to work even with float sv (e.g., rounded to 0.01)\n",
    "\n",
    "More comments can be found in `settle_up_models.ipynb.zip` from the Lab 3.\n",
    " "
   ]
  },
  {
   "cell_type": "code",
   "execution_count": null,
   "metadata": {},
   "outputs": [],
   "source": []
  }
 ],
 "metadata": {
  "kernelspec": {
   "display_name": "Python 3",
   "language": "python",
   "name": "python3"
  },
  "language_info": {
   "codemirror_mode": {
    "name": "ipython",
    "version": 3
   },
   "file_extension": ".py",
   "mimetype": "text/x-python",
   "name": "python",
   "nbconvert_exporter": "python",
   "pygments_lexer": "ipython3",
   "version": "3.6.9"
  }
 },
 "nbformat": 4,
 "nbformat_minor": 4
}
